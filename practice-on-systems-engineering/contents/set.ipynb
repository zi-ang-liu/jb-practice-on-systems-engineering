{
 "cells": [
  {
   "cell_type": "markdown",
   "metadata": {},
   "source": [
    "## Sets\n",
    "\n",
    "A set is a collection of objectives in which repetition is not allowed. Sets are commonly denoted by capital letters in italic form. For example, $A$, $B$, $C$, etc. The elements of a set are enclosed in curly brackets. For example, $A = \\{1, 2, 3, 4, 5\\}$."
   ]
  },
  {
   "cell_type": "code",
   "execution_count": null,
   "metadata": {},
   "outputs": [
    {
     "name": "stdout",
     "output_type": "stream",
     "text": [
      "{1, 2, 3}\n"
     ]
    },
    {
     "data": {
      "text/plain": [
       "set"
      ]
     },
     "metadata": {},
     "output_type": "display_data"
    }
   ],
   "source": [
    "set_1 = {1, 2, 3}\n",
    "print(set_1)\n",
    "type(set_1)"
   ]
  },
  {
   "cell_type": "code",
   "execution_count": null,
   "metadata": {},
   "outputs": [
    {
     "name": "stdout",
     "output_type": "stream",
     "text": [
      "{1, 2, 3}\n"
     ]
    }
   ],
   "source": [
    "# Another way to create a set\n",
    "set_2 = set([1, 2, 3, 3, 2])\n",
    "print(set_2)"
   ]
  },
  {
   "cell_type": "markdown",
   "metadata": {},
   "source": [
    "\n",
    "An empty set is a set that does not contain any element. It is denoted by $\\emptyset$ or $\\{\\}$."
   ]
  },
  {
   "cell_type": "code",
   "execution_count": null,
   "metadata": {},
   "outputs": [
    {
     "name": "stdout",
     "output_type": "stream",
     "text": [
      "set()\n"
     ]
    }
   ],
   "source": [
    "# Create an empty set\n",
    "set_3 = set()\n",
    "print(set_3)"
   ]
  },
  {
   "cell_type": "markdown",
   "metadata": {},
   "source": [
    "### Membership\n",
    "\n",
    "The symbol $\\in$ is used to denote that an element belongs to a set. For example, $x \\in S$ means that $x$ belongs to the set $S$. On the other hand, $x \\notin S$ means that $x$ does not belong to the set $S$. For example, if $S = \\{1, 2, 3, 4, 5\\}$, then $1 \\in S$ and $6 \\notin S$."
   ]
  },
  {
   "cell_type": "code",
   "execution_count": null,
   "metadata": {},
   "outputs": [
    {
     "data": {
      "text/plain": [
       "True"
      ]
     },
     "metadata": {},
     "output_type": "display_data"
    }
   ],
   "source": [
    "set_4 = {1, 2, 3, 4, 5}\n",
    "\n",
    "1 in set_4"
   ]
  },
  {
   "cell_type": "code",
   "execution_count": null,
   "metadata": {},
   "outputs": [
    {
     "data": {
      "text/plain": [
       "True"
      ]
     },
     "metadata": {},
     "output_type": "display_data"
    }
   ],
   "source": [
    "6 not in set_4"
   ]
  },
  {
   "cell_type": "markdown",
   "metadata": {},
   "source": [
    "### Definition and Notation\n",
    "\n",
    "#### Roster Form\n",
    "\n",
    "In the roster form, the elements of a set are listed within curly brackets. For example, $\\{1, 2, 3, 4, 5\\}$.\n",
    "\n",
    "Large sets can be defined by listing the first few elements, followed by ellipses ($\\ldots$) and the last element. For example, $\\{1, 2, 3, \\ldots, 100\\}$ is the set of all natural numbers from 1 to 100.\n",
    "\n",
    "Infinite sets can be defined by listing the first few elements, followed by ellipses ($\\ldots$). For example, $A = \\{0, 1, 2, 3, \\ldots\\}$ is the set of all non-negative integers.\n",
    "\n",
    "#### Set-Builder Form\n",
    "\n",
    "In the set-builder form, the elements of a set are defined by a property that they satisfy. Consider the set of $x$ that have certain property $P$. This set can be denoted as $\\{x \\mid x \\text{ has property } P\\}$. The vertical bar \"$\\mid$\" is read as \"such that\". \n",
    "\n",
    "For example, the set of all $x$ in the interval $[0, 1]$ can be defined as $\\{x \\mid 0 \\leq x \\leq 1\\}$. Similarly, the set of all integers that are at least 5 and less than 10 can be defined as $\\{x \\in \\mathbb{Z} \\mid 5 \\leq x < 10\\}$. Here, $\\mathbb{Z}$ denotes the set of integers.\n",
    "\n",
    "### Special Sets\n",
    "\n",
    "- $\\mathbb{Z}$: The set of integers, $\\{\\ldots, -3, -2, -1, 0, 1, 2, 3, \\ldots\\}$.\n",
    "- $\\mathbb{N}$: The set of natural numbers, $\\{0, 1, 2, 3, \\ldots\\}$. Some definitions include 0 in the set of natural numbers, while others do not.\n",
    "- $\\mathbb{Q}$: The set of rational numbers, $\\left\\{x \\in \\mathbb{R} \\mid x = a/b, \\text{ where } a, b \\in \\mathbb{Z} \\text{ and } b \\neq 0\\right\\}$.\n",
    "- $\\mathbb{R}$: The set of real numbers.\n",
    "- $\\mathbb{R}^+$: The set of positive real numbers, $\\{x \\in \\mathbb{R} \\mid x > 0\\}$."
   ]
  },
  {
   "cell_type": "markdown",
   "metadata": {},
   "source": [
    "### Relations and Operations\n",
    "\n",
    "- **Equality**: Two sets are equal if they have the same elements. For example, $\\{1, 2, 3\\} = \\{3, 2, 1\\}$. \n",
    "- **Subset**: A set $A$ is a subset of a set $B$ if every element of $A$ is also an element of $B$. This is denoted as $A \\subseteq B$. If $A$ is a subset of $B$ but not equal to $B$, it is denoted as $A \\subset B$.\n",
    "- **Superset**: $A \\supseteq B$ means $B \\subseteq A$. Similarly, $A \\supset B$ means $B \\subset A$.\n",
    "- **Union**: The union of two sets $A$ and $B$ is the set of elements that are in $A$, in $B$, or in both. It is denoted as $A \\cup B$. For example, if $A = \\{1, 2, 3\\}$ and $B = \\{3, 4, 5\\}$, then $A \\cup B = \\{1, 2, 3, 4, 5\\}$.\n",
    "- **Intersection**: $A \\cap B$ is the set of elements that are in both $A$ and $B$. For example, if $A = \\{1, 2, 3\\}$ and $B = \\{3, 4, 5\\}$, then $A \\cap B = \\{3\\}$.\n",
    "- **Difference**: $A - B$ is the set of elements that are in $A$ but not in $B$. For example, if $A = \\{1, 2, 3\\}$ and $B = \\{2, 4, 6\\}$, then $A - B = \\{1, 3\\}$. Sometimes, this is denoted as $A \\setminus B$.\n",
    "- **Complement**: Let $\\Omega$ be the universal set. The complement of a set $A$ is the set of elements in $\\Omega$ that are not in $A$. It is denoted as $A^c$ or $\\bar{A}$. Using set difference, $A^c = \\Omega - A$."
   ]
  },
  {
   "cell_type": "code",
   "execution_count": null,
   "metadata": {},
   "outputs": [
    {
     "data": {
      "text/plain": [
       "True"
      ]
     },
     "metadata": {},
     "output_type": "display_data"
    }
   ],
   "source": [
    "# Equality\n",
    "set_1 = {1, 2, 3}\n",
    "set_2 = {3, 2, 1}\n",
    "set_1 == set_2"
   ]
  },
  {
   "cell_type": "code",
   "execution_count": null,
   "metadata": {},
   "outputs": [
    {
     "data": {
      "text/plain": [
       "True"
      ]
     },
     "metadata": {},
     "output_type": "display_data"
    }
   ],
   "source": [
    "# Subset\n",
    "set_1 = {1, 2, 3}\n",
    "set_2 = {1, 2}\n",
    "set_2.issubset(set_1)"
   ]
  },
  {
   "cell_type": "code",
   "execution_count": null,
   "metadata": {},
   "outputs": [
    {
     "data": {
      "text/plain": [
       "True"
      ]
     },
     "metadata": {},
     "output_type": "display_data"
    }
   ],
   "source": [
    "# Superset\n",
    "set_1 = {1, 2, 3}\n",
    "set_2 = {1, 2}\n",
    "set_1.issuperset(set_2)"
   ]
  },
  {
   "cell_type": "code",
   "execution_count": null,
   "metadata": {},
   "outputs": [
    {
     "name": "stdout",
     "output_type": "stream",
     "text": [
      "{1, 2, 3, 4, 5}\n"
     ]
    }
   ],
   "source": [
    "# Union\n",
    "set_1 = {1, 2, 3}\n",
    "set_2 = {3, 4, 5}\n",
    "new_set = set_1.union(set_2)\n",
    "print(new_set)"
   ]
  },
  {
   "cell_type": "code",
   "execution_count": null,
   "metadata": {},
   "outputs": [
    {
     "name": "stdout",
     "output_type": "stream",
     "text": [
      "{3}\n"
     ]
    }
   ],
   "source": [
    "# Intersection\n",
    "set_1 = {1, 2, 3}\n",
    "set_2 = {3, 4, 5}\n",
    "new_set = set_1.intersection(set_2)\n",
    "print(new_set)"
   ]
  },
  {
   "cell_type": "code",
   "execution_count": null,
   "metadata": {},
   "outputs": [
    {
     "name": "stdout",
     "output_type": "stream",
     "text": [
      "{1, 2}\n"
     ]
    }
   ],
   "source": [
    "# Difference\n",
    "set_1 = {1, 2, 3}\n",
    "set_2 = {3, 4, 5}\n",
    "new_set = set_1.difference(set_2)\n",
    "print(new_set)"
   ]
  },
  {
   "cell_type": "code",
   "execution_count": null,
   "metadata": {},
   "outputs": [
    {
     "name": "stdout",
     "output_type": "stream",
     "text": [
      "{4, 5}\n"
     ]
    }
   ],
   "source": [
    "# Complement\n",
    "omega = {1, 2, 3, 4, 5}\n",
    "a = {1, 2, 3}\n",
    "a_complement = omega.difference(a)\n",
    "print(a_complement)"
   ]
  },
  {
   "cell_type": "markdown",
   "metadata": {},
   "source": []
  }
 ],
 "metadata": {
  "language_info": {
   "name": "python"
  }
 },
 "nbformat": 4,
 "nbformat_minor": 2
}
