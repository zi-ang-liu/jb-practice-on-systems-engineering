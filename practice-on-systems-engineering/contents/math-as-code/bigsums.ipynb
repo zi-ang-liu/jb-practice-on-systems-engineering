{
 "cells": [
  {
   "cell_type": "markdown",
   "metadata": {},
   "source": [
    "# Big Sum\n",
    "\n",
    "In mathematics, the big sum is used to represent the sum a collection of elements. The big sum notation is denoted by the symbol $\\sum$. A basic usage of the big sum notation is as follows:\n",
    "\n",
    "$$\n",
    "\\sum_{i=\\text{start}}^{\\text{end}} \\text{expression}\n",
    "$$\n",
    "\n",
    "For example, the sum of the squares of the first $n$ natural numbers can be represented as:\n",
    "\n",
    "$$\n",
    "\\sum_{i=1}^{n} x_i^2 = x_1^2 + x_2^2 + \\ldots + x_n^2\n",
    "$$\n",
    "\n",
    "In addition, we can use the big sum notation to traverse a list of elements. Let's consider a set $A = \\{5, 10, 15, 20\\}$. The sum of the elements in set $A$ can be represented as:\n",
    "\n",
    "$$\n",
    "\\sum_{x \\in A} x = 5 + 10 + 15 + 20\n",
    "$$\n",
    "\n",
    "In Python, the `sum()` function can be used to calculate the sum of a collection of elements. \n",
    "\n",
    "Let's consider a set $A = \\{5, 10, 15, 20\\}$. Then, $\\sum_{x \\in A} (x^2 + 1)$ can be calculated as follows:\n"
   ]
  },
  {
   "cell_type": "code",
   "execution_count": 1,
   "metadata": {},
   "outputs": [
    {
     "name": "stdout",
     "output_type": "stream",
     "text": [
      "754\n"
     ]
    }
   ],
   "source": [
    "set_1 = {5, 10, 15, 20}\n",
    "result = sum([x**2 + 1 for x in set_1])\n",
    "print(result)"
   ]
  },
  {
   "cell_type": "markdown",
   "metadata": {},
   "source": [
    "Let's consider a tuple $a = (1, 2, 3, 4, 5)$. Then, $\\sum_{i=2}^{4} a_i$ can be calculated as follows:"
   ]
  },
  {
   "cell_type": "code",
   "execution_count": 3,
   "metadata": {},
   "outputs": [
    {
     "name": "stdout",
     "output_type": "stream",
     "text": [
      "9\n"
     ]
    }
   ],
   "source": [
    "a = (1, 2, 3, 4, 5)\n",
    "result = sum([a[i] for i in {1, 2, 3}])\n",
    "print(result)"
   ]
  },
  {
   "cell_type": "markdown",
   "metadata": {},
   "source": [
    "Alternatively, we can use the `range()` function to generate a sequence of numbers. `range(start, end)` generates a sequence of numbers from `start` to `end-1`. For example, `range(1, 5)` generates the sequence `1, 2, 3, 4`.\n",
    "\n",
    "Then, $\\sum_{i=2}^{4} a_i$ can be calculated as follows:"
   ]
  },
  {
   "cell_type": "code",
   "execution_count": 4,
   "metadata": {},
   "outputs": [
    {
     "name": "stdout",
     "output_type": "stream",
     "text": [
      "9\n"
     ]
    }
   ],
   "source": [
    "a = (1, 2, 3, 4, 5)\n",
    "result = sum([a[i] for i in range(1, 4)])\n",
    "print(result)"
   ]
  }
 ],
 "metadata": {
  "kernelspec": {
   "display_name": "gurobi",
   "language": "python",
   "name": "python3"
  },
  "language_info": {
   "codemirror_mode": {
    "name": "ipython",
    "version": 3
   },
   "file_extension": ".py",
   "mimetype": "text/x-python",
   "name": "python",
   "nbconvert_exporter": "python",
   "pygments_lexer": "ipython3",
   "version": "3.11.5"
  }
 },
 "nbformat": 4,
 "nbformat_minor": 2
}
