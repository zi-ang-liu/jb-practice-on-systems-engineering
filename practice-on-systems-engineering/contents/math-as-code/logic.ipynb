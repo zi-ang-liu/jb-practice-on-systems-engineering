{
 "cells": [
  {
   "cell_type": "markdown",
   "metadata": {},
   "source": [
    "# Logic"
   ]
  },
  {
   "cell_type": "markdown",
   "metadata": {},
   "source": [
    "## Boolean Operations\n",
    "\n",
    "*Boolean algebra* is a branch of algebra. The values of the variables are the truth values *true* and *false*, usually denoted by 1 and 0, respectively. Boolean algebra uses logical operations to manipulate the values of the variables.\n",
    "\n",
    "The basic operations are:\n",
    "\n",
    "- **AND.** $p \\land q$ is the notation for the statement \"p and q\". It is true if both p and q are true. Sometimes an ampersand $\\&$ is used.\n",
    "- **OR.** $p \\lor q$ is the notation for the statement \"p or q\". It is true if at least one of p and q is true. Sometimes a vertical bar $|$ is used.\n",
    "- **NOT.** $\\lnot p$ is the notation for the statement \"not p\". It is true if p is false."
   ]
  },
  {
   "cell_type": "markdown",
   "metadata": {},
   "source": [
    "Consider the following truth table:\n",
    "\n",
    "| p | q | p AND q | p OR q | NOT p |\n",
    "|---|---|---------|--------|-------|\n",
    "| False | False | False | False | True |\n",
    "| False | True | False | True | True |\n",
    "| True | False | False | True | False |\n",
    "| True | True | True | True | False |"
   ]
  },
  {
   "cell_type": "markdown",
   "metadata": {},
   "source": [
    "In Python, the logical operators are `and`, `or`, and `not`. \n",
    "\n",
    "| Operator | Description                                   | Example             |\n",
    "| -------- | --------------------------------------------- | ------------------- |\n",
    "| `and`    | Returns True if both statements are true      | `x < 5 and  y < 10` |\n",
    "| `or`     | Returns True if one of the statements is true | `x > 10 or x < 5`   |\n",
    "| `not`    | Returns False if the result is true           | `not(x < 5)`        |\n",
    "\n",
    "The following example demonstrates the use of logical operators in Python:"
   ]
  },
  {
   "cell_type": "code",
   "execution_count": 6,
   "metadata": {},
   "outputs": [
    {
     "name": "stdout",
     "output_type": "stream",
     "text": [
      "True\n",
      "True\n",
      "False\n"
     ]
    }
   ],
   "source": [
    "x = 5\n",
    "y = 10\n",
    "print(x < 10 and y > 5)  # Output: True\n",
    "print(x < 10 or y < 5)    # Output: True\n",
    "print(not(x == 5))         # Output: False"
   ]
  },
  {
   "cell_type": "markdown",
   "metadata": {},
   "source": [
    "# Quantifiers\n",
    "\n",
    "The two most common quantifiers are the *universal quantifier* and the *existential quantifier*.\n",
    "\n",
    "- **Universal Quantifier.** The universal quantifier, denoted by the symbol $\\forall$, is used to express that a statement is true for all elements in a set. For example, $\\forall x \\in \\mathbb{N}, x > 0$ means that for all natural numbers $x$, $x$ is greater than zero.\n",
    "- **Existential Quantifier.** The existential quantifier, denoted by the symbol $\\exists$, is used to express that a statement is true for at least one element in a set. For example, $\\exists x \\in \\mathbb{N}, x^2 = 4$ means that there exists a natural number $x$ such that $x^2 = 4$. \n",
    "\n",
    "\n",
    "To improve readability of existential quantifiers, the word \"such that\" (s.t.) is often used in place of the comma. For example, $\\exists x \\in \\mathbb{N} \\text{ s.t. } x^2 = 4$.\n",
    "\n",
    "In addition, the expression $\\exists! x \\in \\mathbb{R}, x^2 = 0$ denotes that there exists exactly one real number $x$ such that $x^2 = 0$.\n",
    "\n",
    "In Python, `for` loops can be used to iterate over a set of elements. "
   ]
  },
  {
   "cell_type": "code",
   "execution_count": null,
   "metadata": {},
   "outputs": [],
   "source": [
    "set_1 = {1, 2, 3, 4, 5}\n",
    "for x in set_1:\n",
    "    print(x)"
   ]
  },
  {
   "cell_type": "markdown",
   "metadata": {},
   "source": [
    "If we want to check if $\\forall x \\in \\{1, 2, 3, 4, 5\\}, x > 0$, we can use the following code:"
   ]
  },
  {
   "cell_type": "code",
   "execution_count": null,
   "metadata": {},
   "outputs": [],
   "source": [
    "set_1 = {1, 2, 3, 4, 5}\n",
    "result = []\n",
    "for x in set_1:\n",
    "    result.append(x > 0)\n",
    "print(all(result))  # Output: True"
   ]
  },
  {
   "cell_type": "markdown",
   "metadata": {},
   "source": [
    "where `all()` returns `True` if all elements in the iterable are true."
   ]
  },
  {
   "cell_type": "markdown",
   "metadata": {},
   "source": [
    "The code above can be simplified using a list comprehension:"
   ]
  },
  {
   "cell_type": "code",
   "execution_count": null,
   "metadata": {},
   "outputs": [],
   "source": [
    "set_1 = {1, 2, 3, 4, 5}\n",
    "print(all([x > 0 for x in set_1]))  # Output: True"
   ]
  },
  {
   "cell_type": "markdown",
   "metadata": {},
   "source": [
    "Similarly, if we want to check if $\\exists x \\in \\{1, 2, 3, 4, 5\\} \\text{ s.t. } x^2 = 4$, we can use the following code:"
   ]
  },
  {
   "cell_type": "code",
   "execution_count": null,
   "metadata": {},
   "outputs": [],
   "source": [
    "set_1 = {1, 2, 3, 4, 5}\n",
    "print(any([x**2 == 4 for x in set_1]))"
   ]
  },
  {
   "cell_type": "markdown",
   "metadata": {},
   "source": [
    "where `any()` returns `True` if any element in the iterable is true."
   ]
  }
 ],
 "metadata": {
  "kernelspec": {
   "display_name": "gurobi",
   "language": "python",
   "name": "python3"
  },
  "language_info": {
   "codemirror_mode": {
    "name": "ipython",
    "version": 3
   },
   "file_extension": ".py",
   "mimetype": "text/x-python",
   "name": "python",
   "nbconvert_exporter": "python",
   "pygments_lexer": "ipython3",
   "version": "3.11.5"
  }
 },
 "nbformat": 4,
 "nbformat_minor": 2
}
