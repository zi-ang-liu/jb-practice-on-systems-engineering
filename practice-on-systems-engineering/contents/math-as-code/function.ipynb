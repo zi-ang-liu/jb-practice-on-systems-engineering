{
 "cells": [
  {
   "cell_type": "markdown",
   "metadata": {},
   "source": [
    "# Function\n",
    "\n",
    "In mathematics, a function is a mapping from a set of inputs to a set of outputs. In general, given a set $A$ and a set $B$, the notation $f: A \\rightarrow B$ denotes that the function $f$ takes an input from set $A$ and returns an output in set $B$. \n",
    "\n",
    "Note that it is not necessary that every element in set $B$ be an output of the function $f$. For example, $\\sin: \\mathbb{R} \\rightarrow \\mathbb{R}$ denotes that the sine function takes a real number as input and returns a real number as output. Although the output of the sine function is within the range $[-1, 1]$.\n",
    "\n",
    "\n",
    "Given a function $f: A \\rightarrow B$ and an element $x \\in A$, the value of the function $f$ at $x$ is denoted by $f(x)$. \n",
    "\n",
    "For example, if $f(x) = x^2$, then $f(2) = 2^2 = 4$.\n",
    "\n",
    "Another way to represent the value of a function is by using the notation \n",
    "\n",
    "$$\n",
    "f(x) \\rvert_{x=a}.\n",
    "$$\n",
    "\n",
    "In addition, $y = f(x)$ can be written as $x \\xmapsto{f} y$ or $x \\mapsto y$. \n",
    "\n",
    "In Python, functions can be defined using the `def` keyword. For example, the function $f(x) = x^2$ can be defined as follows:\n"
   ]
  },
  {
   "cell_type": "code",
   "execution_count": 1,
   "metadata": {},
   "outputs": [],
   "source": [
    "def f(x):\n",
    "    return x**2"
   ]
  },
  {
   "cell_type": "markdown",
   "metadata": {},
   "source": [
    "When we want to know the value of the function $f$ at $x = 2$, we can call the function `f` with the argument `2`:"
   ]
  },
  {
   "cell_type": "code",
   "execution_count": 2,
   "metadata": {},
   "outputs": [
    {
     "name": "stdout",
     "output_type": "stream",
     "text": [
      "4\n"
     ]
    }
   ],
   "source": [
    "result = f(2)\n",
    "print(result)  # Output: 4"
   ]
  }
 ],
 "metadata": {
  "kernelspec": {
   "display_name": "jb",
   "language": "python",
   "name": "python3"
  },
  "language_info": {
   "codemirror_mode": {
    "name": "ipython",
    "version": 3
   },
   "file_extension": ".py",
   "mimetype": "text/x-python",
   "name": "python",
   "nbconvert_exporter": "python",
   "pygments_lexer": "ipython3",
   "version": "3.10.13"
  }
 },
 "nbformat": 4,
 "nbformat_minor": 2
}
