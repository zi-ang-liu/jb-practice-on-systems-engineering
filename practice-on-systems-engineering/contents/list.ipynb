{
 "cells": [
  {
   "cell_type": "markdown",
   "metadata": {},
   "source": [
    "# List and Tuple\n",
    "\n",
    "In mathematics, a tuple is a collection of elements in which repetition is allowed and order matters (remember that in sets, repetition is not allowed and order does not matter).\n",
    "\n",
    "A tuple is usually denoted by round brackets. For example, $(1, 2, 2, 3)$ and $(1, 3, 2, 2)$ are lists, and since order matters, they are different lists.  \n",
    "\n",
    "A tuple can be represented by a letter, e.g., $a = (1, 2, 3)$, where $a_1 = 1$, $a_2 = 2$, and $a_3 = 3$.\n",
    "\n",
    "An $n$-tuple is a tuple with $n$ elements. For example, $(1, 2, 3)$ is a 3-tuple. A 1-tuple is called a *singleton*, and a 2-tuple is called an *ordered pair*.\n",
    "\n",
    "In Python, a tuple is a collection of elements that is ordered and immutable. Tuples are defined by enclosing the elements in parentheses `()`. For example:"
   ]
  },
  {
   "cell_type": "code",
   "execution_count": null,
   "metadata": {},
   "outputs": [],
   "source": [
    "tuple_1 = (1, 2, 3)\n",
    "tuple_2 = ('a', 'b', 'c')\n",
    "print(tuple_1)  # Output: (1, 2, 3)\n",
    "print(tuple_2)  # Output: ('a', 'b', 'c')"
   ]
  },
  {
   "cell_type": "markdown",
   "metadata": {},
   "source": [
    "A list is a collection of elements that is ordered and mutable. Lists are defined by enclosing the elements in square brackets `[]`. For example:"
   ]
  },
  {
   "cell_type": "code",
   "execution_count": null,
   "metadata": {},
   "outputs": [],
   "source": [
    "list_1 = [1, 2, 3]\n",
    "list_2 = ['a', 'b', 'c']\n",
    "print(list_1)  # Output: [1, 2, 3]\n",
    "print(list_2)  # Output: ['a', 'b', 'c']"
   ]
  },
  {
   "cell_type": "markdown",
   "metadata": {},
   "source": [
    "The main difference between a tuple and a list is that a tuple is immutable, while a list is mutable. This means that the elements of a tuple cannot be changed, while the elements of a list can be changed."
   ]
  },
  {
   "cell_type": "code",
   "execution_count": 3,
   "metadata": {},
   "outputs": [
    {
     "name": "stdout",
     "output_type": "stream",
     "text": [
      "[4, 2, 3]\n"
     ]
    }
   ],
   "source": [
    "list_1 = [1, 2, 3]\n",
    "\n",
    "# Changing the first element of list_1\n",
    "list_1[0] = 4\n",
    "print(list_1)  # Output: [4, 2, 3]"
   ]
  },
  {
   "cell_type": "code",
   "execution_count": 1,
   "metadata": {},
   "outputs": [
    {
     "ename": "TypeError",
     "evalue": "'tuple' object does not support item assignment",
     "output_type": "error",
     "traceback": [
      "\u001b[0;31m---------------------------------------------------------------------------\u001b[0m",
      "\u001b[0;31mTypeError\u001b[0m                                 Traceback (most recent call last)",
      "Cell \u001b[0;32mIn[1], line 4\u001b[0m\n\u001b[1;32m      1\u001b[0m tuple_1 \u001b[38;5;241m=\u001b[39m (\u001b[38;5;241m1\u001b[39m, \u001b[38;5;241m2\u001b[39m, \u001b[38;5;241m3\u001b[39m)\n\u001b[1;32m      3\u001b[0m \u001b[38;5;66;03m# Attempting to change the first element of tuple_1 will raise an error\u001b[39;00m\n\u001b[0;32m----> 4\u001b[0m \u001b[43mtuple_1\u001b[49m\u001b[43m[\u001b[49m\u001b[38;5;241;43m0\u001b[39;49m\u001b[43m]\u001b[49m \u001b[38;5;241m=\u001b[39m \u001b[38;5;241m4\u001b[39m  \n",
      "\u001b[0;31mTypeError\u001b[0m: 'tuple' object does not support item assignment"
     ]
    }
   ],
   "source": [
    "tuple_1 = (1, 2, 3)\n",
    "\n",
    "# Attempting to change the first element of tuple_1 will raise an error\n",
    "tuple_1[0] = 4  "
   ]
  }
 ],
 "metadata": {
  "kernelspec": {
   "display_name": "gurobi",
   "language": "python",
   "name": "python3"
  },
  "language_info": {
   "codemirror_mode": {
    "name": "ipython",
    "version": 3
   },
   "file_extension": ".py",
   "mimetype": "text/x-python",
   "name": "python",
   "nbconvert_exporter": "python",
   "pygments_lexer": "ipython3",
   "version": "3.11.5"
  }
 },
 "nbformat": 4,
 "nbformat_minor": 2
}
