{
 "cells": [
  {
   "cell_type": "markdown",
   "metadata": {},
   "source": [
    "# Logic"
   ]
  },
  {
   "cell_type": "markdown",
   "metadata": {},
   "source": [
    "## Boolean Operations\n",
    "\n",
    "*Boolean algebra* is a branch of algebra. The values of the variables are the truth values *true* and *false*, usually denoted by 1 and 0, respectively. Boolean algebra uses logical operations to manipulate the values of the variables.\n",
    "\n",
    "The basic operations are:\n",
    "\n",
    "- **AND.** $p \\land q$ is the notation for the statement \"p and q\". It is true if both p and q are true. Sometimes an ampersand $\\&$ is used.\n",
    "- **OR.** $p \\lor q$ is the notation for the statement \"p or q\". It is true if at least one of p and q is true. Sometimes a vertical bar $|$ is used.\n",
    "- **NOT.** $\\lnot p$ is the notation for the statement \"not p\". It is true if p is false."
   ]
  },
  {
   "cell_type": "markdown",
   "metadata": {},
   "source": [
    "Consider the following truth table:\n",
    "\n",
    "| p | q | p AND q | p OR q | NOT p |\n",
    "|---|---|---------|--------|-------|\n",
    "| False | False | False | False | True |\n",
    "| False | True | False | True | True |\n",
    "| True | False | False | True | False |\n",
    "| True | True | True | True | False |"
   ]
  },
  {
   "cell_type": "markdown",
   "metadata": {},
   "source": [
    "In Python, the logical operators are `and`, `or`, and `not`. \n",
    "\n",
    "| Operator | Description                                   | Example             |\n",
    "| -------- | --------------------------------------------- | ------------------- |\n",
    "| `and`    | Returns True if both statements are true      | `x < 5 and  y < 10` |\n",
    "| `or`     | Returns True if one of the statements is true | `x > 10 or x < 5`   |\n",
    "| `not`    | Returns False if the result is true           | `not(x < 5)`        |\n",
    "\n",
    "The following example demonstrates the use of logical operators in Python:"
   ]
  },
  {
   "cell_type": "code",
   "execution_count": 5,
   "metadata": {},
   "outputs": [
    {
     "name": "stdout",
     "output_type": "stream",
     "text": [
      "True\n",
      "True\n",
      "True\n",
      "False\n"
     ]
    }
   ],
   "source": [
    "x = 5\n",
    "y = 10\n",
    "print(x < 10 and y > 5)  # Output: True\n",
    "print(x < 10 or y < 5)    # Output: True\n",
    "print(not(x == 5))         # Output: False"
   ]
  }
 ],
 "metadata": {
  "kernelspec": {
   "display_name": "gurobi",
   "language": "python",
   "name": "python3"
  },
  "language_info": {
   "codemirror_mode": {
    "name": "ipython",
    "version": 3
   },
   "file_extension": ".py",
   "mimetype": "text/x-python",
   "name": "python",
   "nbconvert_exporter": "python",
   "pygments_lexer": "ipython3",
   "version": "3.11.5"
  }
 },
 "nbformat": 4,
 "nbformat_minor": 2
}
