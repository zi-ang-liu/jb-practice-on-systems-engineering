{
 "cells": [
  {
   "cell_type": "markdown",
   "metadata": {},
   "source": [
    "# Logic"
   ]
  },
  {
   "cell_type": "markdown",
   "metadata": {},
   "source": [
    "## Boolean Operations\n",
    "\n",
    "*Boolean algebra* is a branch of algebra. The values of the variables are the truth values *true* and *false*, usually denoted by 1 and 0, respectively. Boolean algebra uses logical operations to manipulate the values of the variables.\n",
    "\n",
    "The basic operations are:\n",
    "\n",
    "- **AND.** $p \\land q$ is the notation for the statement \"p and q\". It is true if both p and q are true. Sometimes an ampersand $\\&$ is used.\n",
    "- **OR.** $p \\lor q$ is the notation for the statement \"p or q\". It is true if at least one of p and q is true. Sometimes a vertical bar $|$ is used."
   ]
  },
  {
   "cell_type": "markdown",
   "metadata": {},
   "source": []
  }
 ],
 "metadata": {
  "language_info": {
   "name": "python"
  }
 },
 "nbformat": 4,
 "nbformat_minor": 2
}
