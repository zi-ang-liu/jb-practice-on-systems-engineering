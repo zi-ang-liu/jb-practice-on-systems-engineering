{
 "cells": [
  {
   "cell_type": "markdown",
   "metadata": {},
   "source": [
    "# 数学とPythonプログラミング\n",
    "\n",
    "## Equality\n",
    "\n",
    "- **Equality.** A relation between two mathmatical expressions that have the same mathematical object. For example, $1 + 1 = 2$.\n",
    "- **Assignment.** If $E$ is an expression, and $x$ is a variable, then $x \\coloneqq E$ is an assignment statement that assigns the value of $E$ to the variable $x$.\n",
    "- **Inequality.** A relation between two mathmatical expressions that do not have the same mathematical object. For example, $1 + 1 \\neq 3$.\n",
    "- **Approximation.** A relation between two mathmatical expressions that are approximately equal. For example, $\\pi \\approx 3.14159$."
   ]
  },
  {
   "cell_type": "markdown",
   "metadata": {},
   "source": [
    "In Python:"
   ]
  },
  {
   "cell_type": "code",
   "execution_count": 1,
   "metadata": {},
   "outputs": [
    {
     "data": {
      "text/plain": [
       "True"
      ]
     },
     "execution_count": 1,
     "metadata": {},
     "output_type": "execute_result"
    }
   ],
   "source": [
    "## Equality\n",
    "1 + 1 == 2"
   ]
  }
 ],
 "metadata": {
  "kernelspec": {
   "display_name": "jb",
   "language": "python",
   "name": "python3"
  },
  "language_info": {
   "codemirror_mode": {
    "name": "ipython",
    "version": 3
   },
   "file_extension": ".py",
   "mimetype": "text/x-python",
   "name": "python",
   "nbconvert_exporter": "python",
   "pygments_lexer": "ipython3",
   "version": "3.10.13"
  }
 },
 "nbformat": 4,
 "nbformat_minor": 2
}
