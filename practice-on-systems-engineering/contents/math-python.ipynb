{
 "cells": [
  {
   "cell_type": "markdown",
   "metadata": {},
   "source": [
    "# 数学とPythonプログラミング\n",
    "\n",
    "## Equality\n",
    "\n",
    "- **Equality.** A relation between two mathmatical expressions that have the same mathematical object. For example, $1 + 1 = 2$.\n",
    "- **Assignment.** If $E$ is an expression, and $x$ is a variable, then $x \\triangleq E$ is an assignment statement that assigns the value of $E$ to the variable $x$.\n",
    "- **Inequality.** A relation between two mathmatical expressions that do not have the same mathematical object. For example, $1 + 1 \\neq 3$.\n",
    "- **Approximation.** A relation between two mathmatical expressions that are approximately equal. For example, $\\pi \\approx 3.14159$."
   ]
  },
  {
   "cell_type": "markdown",
   "metadata": {},
   "source": [
    "In Python:"
   ]
  },
  {
   "cell_type": "code",
   "execution_count": 1,
   "metadata": {},
   "outputs": [
    {
     "data": {
      "text/plain": [
       "True"
      ]
     },
     "execution_count": 1,
     "metadata": {},
     "output_type": "execute_result"
    }
   ],
   "source": [
    "# Equality\n",
    "1 + 1 == 2"
   ]
  },
  {
   "cell_type": "code",
   "execution_count": 2,
   "metadata": {},
   "outputs": [
    {
     "name": "stdout",
     "output_type": "stream",
     "text": [
      "2\n"
     ]
    }
   ],
   "source": [
    "# Assignment\n",
    "x = 1 + 1\n",
    "print(x)"
   ]
  },
  {
   "cell_type": "code",
   "execution_count": 3,
   "metadata": {},
   "outputs": [
    {
     "data": {
      "text/plain": [
       "True"
      ]
     },
     "execution_count": 3,
     "metadata": {},
     "output_type": "execute_result"
    }
   ],
   "source": [
    "# Inequality\n",
    "1 + 1 != 3"
   ]
  },
  {
   "cell_type": "code",
   "execution_count": 4,
   "metadata": {},
   "outputs": [
    {
     "data": {
      "text/plain": [
       "False"
      ]
     },
     "execution_count": 4,
     "metadata": {},
     "output_type": "execute_result"
    }
   ],
   "source": [
    "# Approximation\n",
    "import math\n",
    "\n",
    "math.isclose(1.5, 2)"
   ]
  },
  {
   "cell_type": "markdown",
   "metadata": {},
   "source": [
    "For more information on the `math.isclose()` function in Python, see the [Python documentation](https://docs.python.org/3/library/math.html#math.isclose).\n",
    "\n",
    "```{note}\n",
    "The difference between $=$ and $\\triangleq$ is that the former is an equality relation, while the latter is an assignment statement. In Python, `a = b` is an assignment statement that assigns the value of `b` to the variable `a`. The equality relation is expressed as `a == b`, which returns a boolean value (`True` or `False`).\n",
    "```"
   ]
  }
 ],
 "metadata": {
  "kernelspec": {
   "display_name": "jb",
   "language": "python",
   "name": "python3"
  },
  "language_info": {
   "codemirror_mode": {
    "name": "ipython",
    "version": 3
   },
   "file_extension": ".py",
   "mimetype": "text/x-python",
   "name": "python",
   "nbconvert_exporter": "python",
   "pygments_lexer": "ipython3",
   "version": "3.10.13"
  }
 },
 "nbformat": 4,
 "nbformat_minor": 2
}
