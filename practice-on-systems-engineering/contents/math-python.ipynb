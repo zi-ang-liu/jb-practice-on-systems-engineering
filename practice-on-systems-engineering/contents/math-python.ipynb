{
 "cells": [
  {
   "cell_type": "markdown",
   "metadata": {},
   "source": [
    "# 数学とPythonプログラミング\n",
    "\n",
    "## Equality\n",
    "\n",
    "- **Equality.** A relation between two mathmatical expressions that have the same mathematical object. For example, $1 + 1 = 2$.\n",
    "- **Assignment.** If $E$ is an expression, and $x$ is a variable, then $x \\triangleq E$ is an assignment statement that assigns the value of $E$ to the variable $x$.\n",
    "- **Inequality.** A relation between two mathmatical expressions that do not have the same mathematical object. For example, $1 + 1 \\neq 3$.\n",
    "- **Approximation.** A relation between two mathmatical expressions that are approximately equal. For example, $\\pi \\approx 3.14159$."
   ]
  },
  {
   "cell_type": "markdown",
   "metadata": {},
   "source": [
    "In Python:"
   ]
  },
  {
   "cell_type": "code",
   "execution_count": 1,
   "metadata": {},
   "outputs": [
    {
     "data": {
      "text/plain": [
       "True"
      ]
     },
     "execution_count": 1,
     "metadata": {},
     "output_type": "execute_result"
    }
   ],
   "source": [
    "## Equality\n",
    "1 + 1 == 2"
   ]
  },
  {
   "cell_type": "code",
   "execution_count": 2,
   "metadata": {},
   "outputs": [
    {
     "name": "stdout",
     "output_type": "stream",
     "text": [
      "2\n"
     ]
    }
   ],
   "source": [
    "## Assignment\n",
    "x = 1 + 1\n",
    "print(x)"
   ]
  },
  {
   "cell_type": "code",
   "execution_count": 3,
   "metadata": {},
   "outputs": [
    {
     "data": {
      "text/plain": [
       "True"
      ]
     },
     "execution_count": 3,
     "metadata": {},
     "output_type": "execute_result"
    }
   ],
   "source": [
    "## Inequality\n",
    "1 + 1 != 3"
   ]
  },
  {
   "cell_type": "code",
   "execution_count": 4,
   "metadata": {},
   "outputs": [
    {
     "data": {
      "text/plain": [
       "False"
      ]
     },
     "execution_count": 4,
     "metadata": {},
     "output_type": "execute_result"
    }
   ],
   "source": [
    "## Approximation\n",
    "import math\n",
    "\n",
    "math.isclose(1.5, 2)"
   ]
  },
  {
   "cell_type": "markdown",
   "metadata": {},
   "source": [
    "For more information on the `math.isclose()` function in Python, see the [Python documentation](https://docs.python.org/3/library/math.html#math.isclose).\n",
    "\n",
    "```{note}\n",
    "The difference between $=$ and $\\triangleq$ is that the former is an equality relation, while the latter is an assignment statement. In Python, `a = b` is an assignment statement that assigns the value of `b` to the variable `a`. The equality relation is expressed as `a == b`, which returns a boolean value (`True` or `False`).\n",
    "```"
   ]
  },
  {
   "cell_type": "markdown",
   "metadata": {},
   "source": [
    "## Sets\n",
    "\n",
    "A set is a collection of objectives in which repetition is not allowed. Sets are commonly denoted by capital letters in italic form. For example, $A$, $B$, $C$, etc. The elements of a set are enclosed in curly brackets. For example, $A = \\{1, 2, 3, 4, 5\\}$.\n",
    "\n",
    "An empty set is a set that does not contain any element. It is denoted by $\\emptyset$ or $\\{\\}$."
   ]
  },
  {
   "cell_type": "code",
   "execution_count": 7,
   "metadata": {},
   "outputs": [
    {
     "name": "stdout",
     "output_type": "stream",
     "text": [
      "{1, 2, 3}\n"
     ]
    },
    {
     "data": {
      "text/plain": [
       "set"
      ]
     },
     "execution_count": 7,
     "metadata": {},
     "output_type": "execute_result"
    }
   ],
   "source": [
    "set_1 = {1, 2, 3}\n",
    "print(set_1)\n",
    "type(set_1)"
   ]
  },
  {
   "cell_type": "code",
   "execution_count": 9,
   "metadata": {},
   "outputs": [
    {
     "name": "stdout",
     "output_type": "stream",
     "text": [
      "{1, 2, 3}\n"
     ]
    }
   ],
   "source": [
    "## Another way to create a set\n",
    "set_2 = set([1, 2, 3, 3, 2])\n",
    "print(set_2)"
   ]
  },
  {
   "cell_type": "code",
   "execution_count": 11,
   "metadata": {},
   "outputs": [
    {
     "name": "stdout",
     "output_type": "stream",
     "text": [
      "set()\n"
     ]
    }
   ],
   "source": [
    "## Create an empty set\n",
    "set_3 = set()\n",
    "print(set_3)"
   ]
  },
  {
   "cell_type": "markdown",
   "metadata": {},
   "source": [
    "### Membership\n",
    "\n",
    "The symbol $\\in$ is used to denote that an element belongs to a set. For example, $x \\in S$ means that $x$ belongs to the set $S$. On the other hand, $x \\notin S$ means that $x$ does not belong to the set $S$. For example, if $S = \\{1, 2, 3, 4, 5\\}$, then $1 \\in S$ and $6 \\notin S$."
   ]
  },
  {
   "cell_type": "code",
   "execution_count": null,
   "metadata": {},
   "outputs": [],
   "source": []
  },
  {
   "cell_type": "markdown",
   "metadata": {},
   "source": [
    "### Definition and Notation\n",
    "\n",
    "#### Roster Form\n",
    "\n",
    "In the roster form, the elements of a set are listed within curly brackets. For example, $\\{1, 2, 3, 4, 5\\}$.\n",
    "\n",
    "Large sets can be defined by listing the first few elements, followed by ellipses ($\\ldots$) and the last element. For example, $\\{1, 2, 3, \\ldots, 100\\}$ is the set of all natural numbers from 1 to 100.\n",
    "\n",
    "Infinite sets can be defined by listing the first few elements, followed by ellipses ($\\ldots$). For example, $A = \\{0, 1, 2, 3, \\ldots\\}$ is the set of all non-negative integers.\n",
    "\n",
    "#### Set-Builder Form\n",
    "\n",
    "In the set-builder form, the elements of a set are defined by a property that they satisfy. Consider the set of $x$ that have certain property $P$. This set can be denoted as $\\{x \\mid x \\text{ has property } P\\}$. The vertical bar \"$\\mid$\" is read as \"such that\". \n",
    "\n",
    "For example, the set of all $x$ in the interval $[0, 1]$ can be defined as $\\{x \\mid 0 \\leq x \\leq 1\\}$. Similarly, the set of all integers that are at least 5 and less than 10 can be defined as $\\{x \\in \\mathbb{Z} \\mid 5 \\leq x < 10\\}$. Here, $\\mathbb{Z}$ denotes the set of integers.\n",
    "\n",
    "### Special Sets\n",
    "\n",
    "- $\\mathbb{Z}$: The set of integers, $\\{\\ldots, -3, -2, -1, 0, 1, 2, 3, \\ldots\\}$.\n",
    "- $\\mathbb{N}$: The set of natural numbers, $\\{0, 1, 2, 3, \\ldots\\}$. Some definitions include 0 in the set of natural numbers, while others do not.\n",
    "- $\\mathbb{Q}$: The set of rational numbers, $\\left\\{x \\in \\mathbb{R} \\mid x = a/b, \\text{ where } a, b \\in \\mathbb{Z} \\text{ and } b \\neq 0\\right\\}$.\n",
    "- $\\mathbb{R}$: The set of real numbers.\n",
    "- $\\mathbb{R}^+$: The set of positive real numbers, $\\{x \\in \\mathbb{R} \\mid x > 0\\}$.\n",
    "\n",
    "### Relations and Operations\n",
    "\n",
    "- **Equality**: Two sets are equal if they have the same elements. For example, $\\{1, 2, 3\\} = \\{3, 2, 1\\}$. \n",
    "- **Subset**: A set $A$ is a subset of a set $B$ if every element of $A$ is also an element of $B$. This is denoted as $A \\subseteq B$. If $A$ is a subset of $B$ but not equal to $B$, it is denoted as $A \\subset B$.\n",
    "- **Superset**: $A \\supseteq B$ means $B \\subseteq A$. Similarly, $A \\supset B$ means $B \\subset A$.\n",
    "- **Union**: The union of two sets $A$ and $B$ is the set of elements that are in $A$, in $B$, or in both. It is denoted as $A \\cup B$. For example, if $A = \\{1, 2, 3\\}$ and $B = \\{3, 4, 5\\}$, then $A \\cup B = \\{1, 2, 3, 4, 5\\}$.\n",
    "- **Intersection**: $A \\cap B$ is the set of elements that are in both $A$ and $B$. For example, if $A = \\{1, 2, 3\\}$ and $B = \\{3, 4, 5\\}$, then $A \\cap B = \\{3\\}$.\n",
    "- **Difference**: $A - B$ is the set of elements that are in $A$ but not in $B$. For example, if $A = \\{1, 2, 3\\}$ and $B = \\{2, 4, 6\\}$, then $A - B = \\{1, 3\\}$. Sometimes, this is denoted as $A \\setminus B$.\n",
    "- **Complement**: Let $\\Omega$ be the universal set. The complement of a set $A$ is the set of elements in $\\Omega$ that are not in $A$. It is denoted as $A^c$ or $\\bar{A}$. Using set difference, $A^c = \\Omega - A$."
   ]
  }
 ],
 "metadata": {
  "kernelspec": {
   "display_name": "jb",
   "language": "python",
   "name": "python3"
  },
  "language_info": {
   "codemirror_mode": {
    "name": "ipython",
    "version": 3
   },
   "file_extension": ".py",
   "mimetype": "text/x-python",
   "name": "python",
   "nbconvert_exporter": "python",
   "pygments_lexer": "ipython3",
   "version": "3.10.13"
  }
 },
 "nbformat": 4,
 "nbformat_minor": 2
}
